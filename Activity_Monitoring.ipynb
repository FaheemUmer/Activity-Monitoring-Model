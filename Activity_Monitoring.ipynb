{
  "nbformat": 4,
  "nbformat_minor": 0,
  "metadata": {
    "colab": {
      "provenance": []
    },
    "kernelspec": {
      "name": "python3",
      "display_name": "Python 3"
    },
    "language_info": {
      "name": "python"
    }
  },
  "cells": [
    {
      "cell_type": "code",
      "execution_count": 2,
      "metadata": {
        "id": "dQGBBN8MgISt"
      },
      "outputs": [],
      "source": [
        "import numpy as np\n",
        "from sklearn.svm import SVC\n",
        "from sklearn.metrics import f1_score, accuracy_score, confusion_matrix\n",
        "import torch\n",
        "import torch.nn as nn"
      ]
    },
    {
      "cell_type": "code",
      "source": [
        "from google.colab import drive\n",
        "drive.mount('/content/drive')"
      ],
      "metadata": {
        "colab": {
          "base_uri": "https://localhost:8080/"
        },
        "id": "cM9322dtgqdH",
        "outputId": "01daa4a8-0826-4006-94f7-0d4affcfa39e"
      },
      "execution_count": 3,
      "outputs": [
        {
          "output_type": "stream",
          "name": "stdout",
          "text": [
            "Mounted at /content/drive\n"
          ]
        }
      ]
    },
    {
      "cell_type": "code",
      "source": [
        "#USING ALREADY EXTRACTED DATA FROM JINS SENSORS\n",
        "train_msAcc = np.load(\"/content/drive/MyDrive/Datasets/train_JinsMSAccelerometer_OpenDoor_RubHands.npy\")\n",
        "train_msGyro = np.load(\"/content/drive/MyDrive/Datasets/train_JinsMSGyroscope_OpenDoor_RubHands.npy\")\n",
        "train_labels = np.load(\"/content/drive/MyDrive/Datasets/train_Jinslabels_OpenDoor_RubHands.npy\")\n",
        "\n",
        "test_msAcc = np.load(\"/content/drive/MyDrive/Datasets/test_MSJinsAccelerometer_OpenDoor_RubHands.npy\")\n",
        "test_msGyro = np.load(\"/content/drive/MyDrive/Datasets/test_MSJinsGyroscope_OpenDoor_RubHands.npy\")\n",
        "test_labels = np.load(\"/content/drive/MyDrive/Datasets/test_Jinslabels_OpenDoor_RubHands.npy\")"
      ],
      "metadata": {
        "id": "XAzr7awHh-cm"
      },
      "execution_count": 4,
      "outputs": []
    },
    {
      "cell_type": "code",
      "source": [
        "print(train_msAcc.shape)\n",
        "print(train_msGyro.shape)\n",
        "print(train_labels.shape)\n",
        "\n",
        "print(test_msAcc.shape)\n",
        "print(test_msGyro.shape)\n",
        "print(test_labels.shape)"
      ],
      "metadata": {
        "colab": {
          "base_uri": "https://localhost:8080/"
        },
        "id": "3ZydO8MUjK_n",
        "outputId": "6512bba6-ab15-44e7-d57a-fad8d0441a31"
      },
      "execution_count": 5,
      "outputs": [
        {
          "output_type": "stream",
          "name": "stdout",
          "text": [
            "(87, 80, 3)\n",
            "(87, 80, 3)\n",
            "(87,)\n",
            "(90, 80, 3)\n",
            "(90, 80, 3)\n",
            "(90,)\n"
          ]
        }
      ]
    },
    {
      "cell_type": "code",
      "source": [
        "train_num_examples = 87\n",
        "test_num_examples = 90\n",
        "\n",
        "# Number of sensors and features\n",
        "num_features = 8  # mean, max, min, std,precentile,zero crossing for each sensor\n",
        "num_sensors = 2  # Accelerometer and Gyroscope\n",
        "\n",
        "# Initialize arrays to store features\n",
        "train_features = np.zeros((train_num_examples, num_sensors * num_features, 3))\n",
        "test_features = np.zeros((test_num_examples, num_sensors * num_features, 3))"
      ],
      "metadata": {
        "id": "iRE0JpOhmN1h"
      },
      "execution_count": 6,
      "outputs": []
    },
    {
      "cell_type": "code",
      "source": [
        "# Training Accelerometer features\n",
        "train_features[:, 0, :] = np.mean(train_msAcc, axis=1)\n",
        "train_features[:, 1, :] = np.max(train_msAcc, axis=1)\n",
        "train_features[:, 2, :] = np.min(train_msAcc, axis=1)\n",
        "train_features[:, 3, :] = np.std(train_msAcc, axis=1)\n",
        "train_features[:, 4, :] = np.percentile(train_msAcc, 20, axis=1)\n",
        "train_features[:, 5, :] = np.percentile(train_msAcc, 50, axis=1)\n",
        "train_features[:, 6, :] = np.percentile(train_msAcc, 80, axis=1)\n",
        "train_features[:, 7, :] = np.sum(np.diff(np.sign(train_msAcc), axis=1) != 0, axis=1)\n",
        "\n",
        "\n",
        "# Training Gyroscope features\n",
        "train_features[:, 8, :] = np.mean(train_msGyro, axis=1)\n",
        "train_features[:, 9, :] = np.max(train_msGyro, axis=1)\n",
        "train_features[:, 10, :] = np.min(train_msGyro, axis=1)\n",
        "train_features[:, 11, :] = np.std(train_msGyro, axis=1)\n",
        "train_features[:, 12, :] = np.percentile(train_msGyro, 20, axis=1)\n",
        "train_features[:, 13, :] = np.percentile(train_msGyro, 50, axis=1)\n",
        "train_features[:, 14, :] = np.percentile(train_msGyro, 80, axis=1)\n",
        "train_features[:, 15, :] = np.sum(np.diff(np.sign(train_msGyro), axis=1) != 0, axis=1)\n"
      ],
      "metadata": {
        "id": "dmUet6XCmqMa"
      },
      "execution_count": 7,
      "outputs": []
    },
    {
      "cell_type": "code",
      "source": [
        "# Testing Accelerometer features\n",
        "test_features[:, 0, :] = np.mean(test_msAcc, axis=1)\n",
        "test_features[:, 1, :] = np.max(test_msAcc, axis=1)\n",
        "test_features[:, 2, :] = np.min(test_msAcc, axis=1)\n",
        "test_features[:, 3, :] = np.std(test_msAcc, axis=1)\n",
        "test_features[:, 4, :] = np.percentile(test_msAcc, 20, axis=1)\n",
        "test_features[:, 5, :] = np.percentile(test_msAcc, 50, axis=1)\n",
        "test_features[:, 6, :] = np.percentile(test_msAcc, 80, axis=1)\n",
        "test_features[:, 7, :] = np.sum(np.diff(np.sign(test_msAcc), axis=1) != 0, axis=1)\n",
        "\n",
        "# Testing Gyroscope features\n",
        "test_features[:, 8, :] = np.mean(test_msGyro, axis=1)\n",
        "test_features[:, 9, :] = np.max(test_msGyro, axis=1)\n",
        "test_features[:, 10, :] = np.min(test_msGyro, axis=1)\n",
        "test_features[:, 11, :] = np.std(test_msGyro, axis=1)\n",
        "test_features[:, 12, :] = np.percentile(test_msGyro, 20, axis=1)\n",
        "test_features[:, 13, :] = np.percentile(test_msGyro, 50, axis=1)\n",
        "test_features[:, 14, :] = np.percentile(test_msGyro, 80, axis=1)\n",
        "test_features[:, 15, :] = np.sum(np.diff(np.sign(test_msGyro), axis=1) != 0, axis=1)\n",
        "\n",
        "\n"
      ],
      "metadata": {
        "id": "7ZoWr9BgmvfP"
      },
      "execution_count": 8,
      "outputs": []
    },
    {
      "cell_type": "code",
      "source": [
        "print(\"Train Features Shape:\", train_features.shape)\n",
        "print(\"Test Features Shape:\", test_features.shape)\n"
      ],
      "metadata": {
        "colab": {
          "base_uri": "https://localhost:8080/"
        },
        "id": "4lTChjXSm3mS",
        "outputId": "2dfad60a-cf24-4050-e63b-dc05e91f909e"
      },
      "execution_count": 9,
      "outputs": [
        {
          "output_type": "stream",
          "name": "stdout",
          "text": [
            "Train Features Shape: (87, 16, 3)\n",
            "Test Features Shape: (90, 16, 3)\n"
          ]
        }
      ]
    },
    {
      "cell_type": "code",
      "source": [
        "# Reshape train features\n",
        "train_features_reshaped = np.reshape(\n",
        "    train_features, (train_features.shape[0], train_features.shape[1] * train_features.shape[2])\n",
        ")\n",
        "print(\"Reshaped Train Features Shape:\", train_features_reshaped.shape)\n",
        "# Reshape test features\n",
        "test_features_reshaped = np.reshape(\n",
        "    test_features, (test_features.shape[0], test_features.shape[1] * test_features.shape[2])\n",
        ")\n",
        "print(\"Reshaped Test Features Shape:\", test_features_reshaped.shape)\n"
      ],
      "metadata": {
        "colab": {
          "base_uri": "https://localhost:8080/"
        },
        "id": "3dVujILynArW",
        "outputId": "c7c224c2-9e9c-4acb-ca26-769850068b7f"
      },
      "execution_count": 10,
      "outputs": [
        {
          "output_type": "stream",
          "name": "stdout",
          "text": [
            "Reshaped Train Features Shape: (87, 48)\n",
            "Reshaped Test Features Shape: (90, 48)\n"
          ]
        }
      ]
    },
    {
      "cell_type": "code",
      "source": [
        "##without using any batches the accuracy was varying from 65 to 81 which is very inconsistent##\n",
        "\n",
        "# from os import times_result\n",
        "\n",
        "# # Map 20 to 0 and 36 to 1\n",
        "# train_labels_binary = np.where(train_labels == 20, 0, 1)\n",
        "# test_labels_binary = np.where(test_labels == 20, 0, 1)\n",
        "\n",
        "# import torch.optim as optim\n",
        "\n",
        "# # Assuming train_features_reshaped and test_features_reshaped are your input data\n",
        "# # Convert training and testing data to PyTorch tensors\n",
        "# X_train_tensor = torch.tensor(train_features_reshaped, dtype=torch.float32)\n",
        "# y_train_tensor = torch.tensor(train_labels_binary, dtype=torch.float32).unsqueeze(1)\n",
        "# X_test_tensor = torch.tensor(test_features_reshaped, dtype=torch.float32)\n",
        "# y_test_tensor = torch.tensor(test_labels_binary, dtype=torch.float32).unsqueeze(1)\n",
        "\n",
        "# class BinaryClassificationModel(nn.Module):\n",
        "#     def __init__(self, input_size):\n",
        "#         super(BinaryClassificationModel, self).__init__()\n",
        "#         self.hidden1 = nn.Linear(input_size, 128)  # First hidden layer with 128 neurons\n",
        "#         self.hidden2 = nn.Linear(128, 64)         # Second hidden layer with 64 neurons\n",
        "#         self.hidden3 = nn.Linear(64, 32)          # Third hidden layer with 32 neurons\n",
        "#         self.output = nn.Linear(32, 1)            # Output layer\n",
        "#         self.sigmoid = nn.Sigmoid()               # Sigmoid activation for binary classification\n",
        "\n",
        "#     def forward(self, x):\n",
        "#         x = torch.relu(self.hidden1(x))           # Apply ReLU activation to first hidden layer\n",
        "#         x = torch.relu(self.hidden2(x))           # Apply ReLU activation to second hidden layer\n",
        "#         x = torch.relu(self.hidden3(x))           # Apply ReLU activation to third hidden layer\n",
        "#         x = self.sigmoid(self.output(x))          # Sigmoid activation for the output layer\n",
        "#         return x\n",
        "\n",
        "# # Initialize the improved model\n",
        "# input_size = train_features_reshaped.shape[1]\n",
        "# print(input_size)\n",
        "# model = BinaryClassificationModel(input_size)\n",
        "\n",
        "# # Define the loss function and optimizer\n",
        "# criterion = nn.BCELoss()  # Binary Cross-Entropy Loss\n",
        "# optimizer = optim.SGD(model.parameters(), lr=0.01)  # Lowered learning rate to 0.1 for better convergence\n",
        "\n",
        "# # Training the improved model\n",
        "# num_epochs = 1000\n",
        "# losses = []\n",
        "# for epoch in range(num_epochs):\n",
        "#     # Forward pass\n",
        "#     outputs = model(X_train_tensor)\n",
        "#     loss = criterion(outputs, y_train_tensor)\n",
        "\n",
        "#     # Backward pass and optimization\n",
        "#     optimizer.zero_grad()  # Clear old gradients\n",
        "#     loss.backward()        # Compute new gradients\n",
        "#     optimizer.step()       # Update model parameters\n",
        "\n",
        "#     losses.append(loss.item())\n",
        "\n",
        "#     # Print loss every 100 epochs\n",
        "#     if (epoch + 1) % 100 == 0:\n",
        "#         print(f\"Epoch {epoch + 1}/{num_epochs}, Loss: {loss.item():.4f}\")\n",
        "\n",
        "# with torch.no_grad():\n",
        "#     y_pred = model(X_test_tensor)\n",
        "#     y_pred_classes = (y_pred > 0.5).float()  # Convert probabilities to binary labels\n",
        "#     accuracy = (y_pred_classes == y_test_tensor).sum().item() / y_test_tensor.size(0)\n",
        "\n",
        "# print(f\"Test Accuracy: {accuracy * 100:.2f}%\")\n",
        "\n",
        "# from sklearn.metrics import classification_report, confusion_matrix\n",
        "# print(\"Classification Report:\")\n",
        "# print(classification_report(y_test_tensor, y_pred_classes))\n",
        "# print(\"Confusion Matrix:\")\n",
        "# print(confusion_matrix(y_test_tensor, y_pred_classes))\n",
        "\n",
        "\n",
        "##by using batch##\n",
        "import numpy as np\n",
        "import torch\n",
        "import torch.nn as nn\n",
        "import torch.optim as optim\n",
        "from torch.utils.data import DataLoader, TensorDataset\n",
        "\n",
        "# Mapping 20 to 0 and 36 to 1\n",
        "train_labels_binary = np.where(train_labels == 20, 0, 1)\n",
        "test_labels_binary = np.where(test_labels == 20, 0, 1)\n",
        "\n",
        "# Converting training and testing data to PyTorch tensors\n",
        "X_train_tensor = torch.tensor(train_features_reshaped, dtype=torch.float32)\n",
        "y_train_tensor = torch.tensor(train_labels_binary, dtype=torch.float32).unsqueeze(1)\n",
        "X_test_tensor = torch.tensor(test_features_reshaped, dtype=torch.float32)\n",
        "y_test_tensor = torch.tensor(test_labels_binary, dtype=torch.float32).unsqueeze(1)\n",
        "\n",
        "# Creating DataLoader for batching\n",
        "batch_size = 100  # Settig my batch size\n",
        "train_dataset = TensorDataset(X_train_tensor, y_train_tensor)\n",
        "test_dataset = TensorDataset(X_test_tensor, y_test_tensor)\n",
        "train_loader = DataLoader(train_dataset, batch_size=batch_size, shuffle=True)\n",
        "test_loader = DataLoader(test_dataset, batch_size=batch_size, shuffle=False)\n",
        "\n",
        "class BinaryClassificationModel(nn.Module):\n",
        "    def __init__(self, input_size):\n",
        "        super(BinaryClassificationModel, self).__init__()\n",
        "        self.hidden1 = nn.Linear(input_size, 64)  # First hidden layer with 64 neurons\n",
        "        self.hidden2 = nn.Linear(64, 32)         # Second hidden layer with 32 neurons\n",
        "        self.output = nn.Linear(32, 1)           # Output layer\n",
        "        self.sigmoid = nn.Sigmoid()              # Sigmoid activation for binary classification\n",
        "\n",
        "    def forward(self, x):\n",
        "        x = torch.relu(self.hidden1(x))          # Apply ReLU activation to the first hidden layer\n",
        "        x = torch.relu(self.hidden2(x))          # Apply ReLU activation to the second hidden layer\n",
        "        x = self.sigmoid(self.output(x))         # Sigmoid activation for the output layer\n",
        "        return x\n",
        "\n",
        "\n",
        "\n",
        "# Initializing the model\n",
        "input_size = train_features_reshaped.shape[1]\n",
        "model = BinaryClassificationModel(input_size)\n",
        "\n",
        "# Defining the loss function and optimizer\n",
        "criterion = nn.BCELoss()  # Binary Cross-Entropy Loss\n",
        "optimizer = optim.SGD(model.parameters(), lr=0.001)\n",
        "\n",
        "# Training the model with batches\n",
        "num_epochs = 1000\n",
        "for epoch in range(num_epochs):\n",
        "    model.train()  # Setting the model to training mode\n",
        "    total_loss = 0\n",
        "\n",
        "    for batch_X, batch_y in train_loader:\n",
        "        # Forward pass\n",
        "        outputs = model(batch_X)\n",
        "        loss = criterion(outputs, batch_y)\n",
        "\n",
        "        # Backward pass and optimization\n",
        "        optimizer.zero_grad()\n",
        "        loss.backward()\n",
        "        optimizer.step()\n",
        "\n",
        "        total_loss += loss.item()\n",
        "\n",
        "    # Printing average loss every 100 epochs\n",
        "    if (epoch + 1) % 100 == 0:\n",
        "        print(f\"Epoch {epoch + 1}/{num_epochs}, Loss: {total_loss / len(train_loader):.4f}\")\n",
        "\n",
        "# Evaluating the model\n",
        "model.eval()  # Setting the model to evaluation mode\n",
        "y_pred_classes_list = []\n",
        "y_test_list = []\n",
        "\n",
        "with torch.no_grad():\n",
        "    for batch_X, batch_y in test_loader:\n",
        "        outputs = model(batch_X)\n",
        "        preds = (outputs > 0.5).float()  # Converting probabilities to binary labels\n",
        "        y_pred_classes_list.append(preds)\n",
        "        y_test_list.append(batch_y)\n",
        "\n",
        "# Concatenatinating all predictions and true labels\n",
        "y_pred_classes = torch.cat(y_pred_classes_list)\n",
        "y_test_tensor = torch.cat(y_test_list)\n",
        "\n",
        "# Calculating accuracy\n",
        "accuracy = (y_pred_classes == y_test_tensor).sum().item() / y_test_tensor.size(0)\n",
        "print(f\"Test Accuracy using loop: {accuracy * 100:.2f}%\")\n",
        "\n",
        "print(\"________________________________________________________\")\n",
        "\n",
        "from sklearn.metrics import classification_report, confusion_matrix\n",
        "print(\"Classification Report:\")\n",
        "print(classification_report(y_test_tensor, y_pred_classes))\n",
        "print(\"Confusion Matrix:\")\n",
        "print(confusion_matrix(y_test_tensor, y_pred_classes))\n"
      ],
      "metadata": {
        "colab": {
          "base_uri": "https://localhost:8080/"
        },
        "id": "ekv7Hnk1wy_i",
        "outputId": "1c558984-fd66-488e-9cfa-095d81f92834"
      },
      "execution_count": 124,
      "outputs": [
        {
          "output_type": "stream",
          "name": "stdout",
          "text": [
            "Epoch 100/1000, Loss: 0.6004\n",
            "Epoch 200/1000, Loss: 0.5461\n",
            "Epoch 300/1000, Loss: 0.5228\n",
            "Epoch 400/1000, Loss: 0.5024\n",
            "Epoch 500/1000, Loss: 0.4838\n",
            "Epoch 600/1000, Loss: 0.4616\n",
            "Epoch 700/1000, Loss: 0.4495\n",
            "Epoch 800/1000, Loss: 0.4338\n",
            "Epoch 900/1000, Loss: 0.4271\n",
            "Epoch 1000/1000, Loss: 0.4303\n",
            "Test Accuracy using loop: 82.22%\n",
            "________________________________________________________\n",
            "Classification Report:\n",
            "              precision    recall  f1-score   support\n",
            "\n",
            "         0.0       0.77      0.96      0.85        48\n",
            "         1.0       0.93      0.67      0.78        42\n",
            "\n",
            "    accuracy                           0.82        90\n",
            "   macro avg       0.85      0.81      0.81        90\n",
            "weighted avg       0.84      0.82      0.82        90\n",
            "\n",
            "Confusion Matrix:\n",
            "[[46  2]\n",
            " [14 28]]\n"
          ]
        }
      ]
    },
    {
      "cell_type": "code",
      "source": [
        "from sklearn.svm import SVC  # Support Vector Classifier\n",
        "from sklearn.metrics import accuracy_score, classification_report, confusion_matrix\n",
        "from sklearn.preprocessing import StandardScaler\n",
        "\n",
        "scaler = StandardScaler()\n",
        "X_train_scaled = scaler.fit_transform(train_features_reshaped)\n",
        "X_test_scaled = scaler.transform(test_features_reshaped)\n",
        "\n",
        "# Initializing the Support Vector Classifier (SVM)\n",
        "svm_model = SVC(kernel='rbf', C=1, gamma='scale', random_state=42)\n",
        "\n",
        "# Training the model\n",
        "svm_model.fit(X_train_scaled, train_labels_binary)\n",
        "\n",
        "# Making predictions on the test set\n",
        "y_pred = svm_model.predict(X_test_scaled)\n",
        "\n",
        "# Evaluating the model: Accuracy\n",
        "accuracy = accuracy_score(test_labels_binary, y_pred)\n",
        "print(f\"Test Accuracy: {accuracy * 100:.2f}%\")\n",
        "\n",
        "# Printing classification report\n",
        "print(\"Classification Report:\")\n",
        "print(classification_report(test_labels_binary, y_pred))\n",
        "\n",
        "# Printing confusion matrix\n",
        "print(\"Confusion Matrix:\")\n",
        "print(confusion_matrix(test_labels_binary, y_pred))"
      ],
      "metadata": {
        "colab": {
          "base_uri": "https://localhost:8080/"
        },
        "id": "-fNTULmyGV_L",
        "outputId": "6e221a82-f023-4dda-9864-694a5b91a0f6"
      },
      "execution_count": 65,
      "outputs": [
        {
          "output_type": "stream",
          "name": "stdout",
          "text": [
            "Test Accuracy: 83.33%\n",
            "Classification Report:\n",
            "              precision    recall  f1-score   support\n",
            "\n",
            "           0       0.81      0.90      0.85        48\n",
            "           1       0.86      0.76      0.81        42\n",
            "\n",
            "    accuracy                           0.83        90\n",
            "   macro avg       0.84      0.83      0.83        90\n",
            "weighted avg       0.84      0.83      0.83        90\n",
            "\n",
            "Confusion Matrix:\n",
            "[[43  5]\n",
            " [10 32]]\n"
          ]
        }
      ]
    }
  ]
}